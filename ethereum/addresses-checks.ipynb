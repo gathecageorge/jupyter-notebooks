{
 "cells": [
  {
   "cell_type": "markdown",
   "metadata": {},
   "source": [
    "Import needed libraries"
   ]
  },
  {
   "cell_type": "code",
   "execution_count": 1,
   "metadata": {},
   "outputs": [],
   "source": [
    "# COMMON\n",
    "from bip_utils import Bip39MnemonicGenerator, Bip39SeedGenerator\n",
    "\n",
    "# ETH\n",
    "from bip_utils import Bip32Slip10Secp256k1\n",
    "from Crypto.Hash import keccak\n",
    "\n",
    "# Needs module `pip install bip-utils`"
   ]
  },
  {
   "cell_type": "markdown",
   "metadata": {},
   "source": [
    "Step 1: Generate a Mnemonic\n",
    "A mnemonic phrase is a sequence of 12, 15, 18, 21, or 24 words. We'll use the Bip39MnemonicGenerator class to create one.\n",
    "\n",
    "We prompt user to input mnemonic or generate a new one. Enter 'new' without quotes to generate a new mnemonic or enter the 12 words to use them as mnemonic instead of generating."
   ]
  },
  {
   "cell_type": "code",
   "execution_count": 2,
   "metadata": {},
   "outputs": [
    {
     "name": "stdout",
     "output_type": "stream",
     "text": [
      "Mnemonic: razor angle rib avoid alarm they picture define ship wink describe hire\n"
     ]
    }
   ],
   "source": [
    "# Step 1: Generate a 12-word mnemonic\n",
    "generate_new = input(\"Enter mnemonic you want to use or enter 'new' without quotes or leave empty to generate a random one.\")\n",
    "if generate_new == 'new' or generate_new == '':\n",
    "  mnemonic = Bip39MnemonicGenerator().FromWordsNumber(12)\n",
    "else:\n",
    "  mnemonic = generate_new\n",
    "\n",
    "print(f\"Mnemonic: {mnemonic}\")"
   ]
  },
  {
   "cell_type": "markdown",
   "metadata": {},
   "source": [
    "Step 2: Convert Mnemonic to Seed.\n",
    "The mnemonic needs to be converted into a seed, which is a 512-bit number."
   ]
  },
  {
   "cell_type": "code",
   "execution_count": 3,
   "metadata": {},
   "outputs": [
    {
     "name": "stdout",
     "output_type": "stream",
     "text": [
      "Mnemonic: razor angle rib avoid alarm they picture define ship wink describe hire\n",
      "Seed: 0e5d8859ef71ccff75b9ada5d9c22b2df947b5ba9aca6fb0ca7bb7f25c78ae49f04eb80dafa8ed9a11e8f4f0cb27c694031f610d0908d4fdd5ba4054e56464aa\n"
     ]
    }
   ],
   "source": [
    "# Step 2: Generate the seed from the mnemonic\n",
    "seed = Bip39SeedGenerator(mnemonic).Generate()\n",
    "print(f\"Mnemonic: {mnemonic}\")\n",
    "print(f\"Seed: {seed.hex()}\")"
   ]
  },
  {
   "cell_type": "markdown",
   "metadata": {},
   "source": [
    "Step 3: To get n-th key for the ethereum key, one mnemonic can generate an infinite number of key pairs.\n",
    "\n",
    "This is achieved through the use of hierarchical deterministic (HD) wallets, which follow a tree structure. Each node in the tree can generate child nodes (key pairs) based on a specific path.\n",
    "\n",
    "To derive the nth key pair and its corresponding Ethereum address, we modify the derivation path. Typically, the path follows the format:\n",
    "\n",
    "`m / purpose' / coin_type' / account' / change / address_index`\n",
    "\n",
    "For Ethereum, a commonly used path is:\n",
    "`m / 44' / 60' / 0' / 0 / n`\n",
    "\n",
    "Here, n is the index of the address you want to derive. Let's update the script to allow for deriving the nth key pair and address:"
   ]
  },
  {
   "cell_type": "code",
   "execution_count": 4,
   "metadata": {},
   "outputs": [
    {
     "name": "stdout",
     "output_type": "stream",
     "text": [
      "Private Key: 8a710c3e39b329b03393e83d1c58b9c96433c17adfe22b8f019d8bde46ef5f6d\n",
      "Public Key: 040198a483c7e3863cd0062aae1623dd3cf04024a143dba73017196e5a63de976f872c7bb40782b47ab2aeba651651673aab4cd45dfafd48fdb3cac28350afb67c\n",
      "Ethereum Address: 0xbe56499edd3994e15e862f87e2898e4898ad3f83\n"
     ]
    }
   ],
   "source": [
    "# Create a BIP-32 master key from the seed\n",
    "bip32_ctx = Bip32Slip10Secp256k1.FromSeed(seed)\n",
    "\n",
    "# Get the n-th number we want to generate\n",
    "index_key = input(\"Enter the key number you want to generate\")\n",
    "if index_key == '':\n",
    "  index_key = 0\n",
    "\n",
    "# Derive the nth account private key (m/44'/60'/0'/0/n)\n",
    "eth_account_path = f\"m/44'/60'/0'/0/{index_key}\"\n",
    "private_key = bip32_ctx.DerivePath(eth_account_path).PrivateKey().Raw().ToHex()\n",
    "print(f\"Private Key: {private_key}\")\n",
    "\n",
    "# Derive the public key from the private key\n",
    "public_key = bip32_ctx.DerivePath(eth_account_path).PublicKey().RawUncompressed().ToHex()\n",
    "print(f\"Public Key: {public_key}\")\n",
    "\n",
    "# Derive the Ethereum address from the public key\n",
    "# Remove the '0x04' prefix (which indicates an uncompressed public key)\n",
    "public_key_bytes = bytes.fromhex(public_key)[1:]\n",
    "\n",
    "# Compute the Keccak-256 hash of the public key\n",
    "keccak_hash = keccak.new(digest_bits=256)\n",
    "keccak_hash.update(public_key_bytes)\n",
    "public_key_hash = keccak_hash.digest()\n",
    "\n",
    "# Take the last 20 bytes of the hash as the Ethereum address\n",
    "eth_address = public_key_hash[-20:].hex()\n",
    "eth_address = \"0x\" + eth_address\n",
    "print(f\"Ethereum Address: {eth_address}\")"
   ]
  },
  {
   "cell_type": "markdown",
   "metadata": {},
   "source": [
    "# ----------------------\n",
    "### Bitcoin\n",
    "#### Legacy Generate bitcoin address from the same mnemonic"
   ]
  },
  {
   "cell_type": "code",
   "execution_count": 7,
   "metadata": {},
   "outputs": [
    {
     "name": "stdout",
     "output_type": "stream",
     "text": [
      "Private Key: 3cea4719a1f0b99897fafd4602978bec5f773a59e4f2462039b002b731ffc52c\n",
      "Public Key: 02ef1b97d4440df956855f4991348ef56b75b65f3f8c208ffada79b304b0b77140\n",
      "Legacy Bitcoin Address: 1GUXGKfSj2yaa4xi5MXAS9UHZsJybVrkUh\n"
     ]
    }
   ],
   "source": [
    "#BTC\n",
    "from bip_utils import Bip44, Bip44Coins, Bip44Changes\n",
    "\n",
    "# Get the n-th number we want to generate\n",
    "btc_index_key = input(\"Enter the BTC key number you want to generate\")\n",
    "if btc_index_key == '':\n",
    "  btc_index_key = 0\n",
    "\n",
    "# Create a BIP-44 object for Bitcoin\n",
    "bip44_mst_ctx = Bip44.FromSeed(seed, Bip44Coins.BITCOIN)\n",
    "\n",
    "# Derive the nth account key pair (m/44'/0'/0'/0/n)\n",
    "bip44_acc_ctx = bip44_mst_ctx.Purpose().Coin().Account(0).Change(Bip44Changes.CHAIN_EXT).AddressIndex(btc_index_key)\n",
    "\n",
    "# Get the private key\n",
    "private_key = bip44_acc_ctx.PrivateKey().Raw().ToHex()\n",
    "\n",
    "# Get the public key\n",
    "public_key = bip44_acc_ctx.PublicKey().RawCompressed().ToHex()\n",
    "\n",
    "# Get the Bitcoin address\n",
    "bitcoin_address = bip44_acc_ctx.PublicKey().ToAddress()\n",
    "\n",
    "print(f\"Private Key: {private_key}\")\n",
    "print(f\"Public Key: {public_key}\")\n",
    "print(f\"Legacy Bitcoin Address: {bitcoin_address}\")\n"
   ]
  },
  {
   "cell_type": "markdown",
   "metadata": {},
   "source": [
    "Segwit BTC Addresses"
   ]
  },
  {
   "cell_type": "code",
   "execution_count": 26,
   "metadata": {},
   "outputs": [
    {
     "name": "stdout",
     "output_type": "stream",
     "text": [
      "Private Key: c7465e1415688012fd170b7991614e11ebc63bdcc449b28e115c329b55d6b87e\n",
      "Public Key: 02710cad6d8dac03473e734245fa27cf9ff228191ffc9e17fe2dd2df9b0c2645a2\n",
      "Bitcoin SegWit Address: bc1qdta3uvvueskkxwkuw2jql4qyz6nujku59jx0ew\n"
     ]
    }
   ],
   "source": [
    "# BTC Segwit\n",
    "from bip_utils import Bip84, Bip84Coins\n",
    "\n",
    "# Create a BIP-84 object for Bitcoin (native SegWit)\n",
    "bip84_mst_ctx = Bip84.FromSeed(seed, Bip84Coins.BITCOIN)\n",
    "\n",
    "# Derive the nth account key pair (m/84'/0'/0'/0/n)\n",
    "bip84_acc_ctx = bip84_mst_ctx.Purpose().Coin().Account(0).Change(Bip44Changes.CHAIN_EXT).AddressIndex(btc_index_key)\n",
    "\n",
    "# Get the private key\n",
    "private_key = bip84_acc_ctx.PrivateKey().Raw().ToHex()\n",
    "\n",
    "# Get the public key\n",
    "public_key = bip84_acc_ctx.PublicKey().RawCompressed().ToHex()\n",
    "\n",
    "# Get the Bitcoin SegWit address\n",
    "bitcoin_address = bip84_acc_ctx.PublicKey().ToAddress()\n",
    "\n",
    "print(f\"Private Key: {private_key}\")\n",
    "print(f\"Public Key: {public_key}\")\n",
    "print(f\"Bitcoin SegWit Address: {bitcoin_address}\")"
   ]
  },
  {
   "cell_type": "markdown",
   "metadata": {},
   "source": [
    "# ------------\n",
    "#### Dogecoin"
   ]
  },
  {
   "cell_type": "code",
   "execution_count": 27,
   "metadata": {},
   "outputs": [
    {
     "name": "stdout",
     "output_type": "stream",
     "text": [
      "Private Key: 1284c4d6c5832da5a97fd2e8cbd01f825c89a766c883cf5110efb79149da4af8\n",
      "Public Key: 032821c7380e0338890a4dfaf5394cad1b5c957a8d1fb4a187e98baca503486e88\n",
      "Dogecoin Address: DCaDeocPKHnH1yyrYQNKyFHd4YdBz64Yfg\n"
     ]
    }
   ],
   "source": [
    "# Get the n-th number we want to generate\n",
    "doge_index_key = input(\"Enter the DOGE key number you want to generate\")\n",
    "if doge_index_key == '':\n",
    "  doge_index_key = 0\n",
    "\n",
    "# Create a BIP-44 object for Dogecoin\n",
    "bip44_mst_ctx = Bip44.FromSeed(seed, Bip44Coins.DOGECOIN)\n",
    "\n",
    "# Derive the nth account key pair (m/44'/3'/0'/0/n)\n",
    "bip44_acc_ctx = bip44_mst_ctx.Purpose().Coin().Account(0).Change(Bip44Changes.CHAIN_EXT).AddressIndex(doge_index_key)\n",
    "\n",
    "# Get the private key\n",
    "private_key = bip44_acc_ctx.PrivateKey().Raw().ToHex()\n",
    "\n",
    "# Get the public key\n",
    "public_key = bip44_acc_ctx.PublicKey().RawCompressed().ToHex()\n",
    "\n",
    "# Get the Dogecoin address\n",
    "dogecoin_address = bip44_acc_ctx.PublicKey().ToAddress()\n",
    "\n",
    "print(f\"Private Key: {private_key}\")\n",
    "print(f\"Public Key: {public_key}\")\n",
    "print(f\"Dogecoin Address: {dogecoin_address}\")"
   ]
  },
  {
   "cell_type": "markdown",
   "metadata": {},
   "source": [
    "# -----------\n",
    "#### Litecoin legacy"
   ]
  },
  {
   "cell_type": "code",
   "execution_count": 28,
   "metadata": {},
   "outputs": [
    {
     "name": "stdout",
     "output_type": "stream",
     "text": [
      "Private Key: 139561d621707601e4d0b63b47897dcb0bd17abfdd1c561e465bded63f53c4ea\n",
      "Public Key: 02d1f3bb311adb4f7bce224983ebbb8d45a332718424859f338fb767b1c6ddf29f\n",
      "Litecoin Address: LKNuBXHhBjwLDqGiCBqPgdSPry13T6nT3c\n"
     ]
    }
   ],
   "source": [
    "# Get the n-th number we want to generate\n",
    "lite_index_key = input(\"Enter the Litecoin key number you want to generate\")\n",
    "if lite_index_key == '':\n",
    "  lite_index_key = 0\n",
    "\n",
    "# Create a BIP-44 object for Litecoin\n",
    "bip44_mst_ctx = Bip44.FromSeed(seed, Bip44Coins.LITECOIN)\n",
    "\n",
    "# Derive the nth account key pair (m/44'/2'/0'/0/n)\n",
    "bip44_acc_ctx = bip44_mst_ctx.Purpose().Coin().Account(0).Change(Bip44Changes.CHAIN_EXT).AddressIndex(lite_index_key)\n",
    "\n",
    "# Get the private key\n",
    "private_key = bip44_acc_ctx.PrivateKey().Raw().ToHex()\n",
    "\n",
    "# Get the public key\n",
    "public_key = bip44_acc_ctx.PublicKey().RawCompressed().ToHex()\n",
    "\n",
    "# Get the Litecoin address\n",
    "litecoin_address = bip44_acc_ctx.PublicKey().ToAddress()\n",
    "\n",
    "print(f\"Private Key: {private_key}\")\n",
    "print(f\"Public Key: {public_key}\")\n",
    "print(f\"Litecoin Address: {litecoin_address}\")"
   ]
  },
  {
   "cell_type": "markdown",
   "metadata": {},
   "source": [
    "#### Litecoin segwit"
   ]
  },
  {
   "cell_type": "code",
   "execution_count": 29,
   "metadata": {},
   "outputs": [
    {
     "name": "stdout",
     "output_type": "stream",
     "text": [
      "Private Key: 6f83d3e0ccfe105124904dbf333be574696539bf27d6ee83ac52a0056ad9fa0b\n",
      "Public Key: 027e636996a7d0fe0d9383491336427aaaffb69185a8f7aa79a29475c16de921a8\n",
      "Litecoin SegWit Address: ltc1qrc835vwnz0jvr2jupy88uzndf7m30r425n60zy\n"
     ]
    }
   ],
   "source": [
    "# Litecoin Segwit\n",
    "from bip_utils import Bip84, Bip84Coins\n",
    "\n",
    "# Create a BIP-84 object for Litecoin (native SegWit)\n",
    "bip84_mst_ctx = Bip84.FromSeed(seed, Bip84Coins.LITECOIN)\n",
    "\n",
    "# Derive the nth account key pair (m/84'/0'/0'/0/n)\n",
    "bip84_acc_ctx = bip84_mst_ctx.Purpose().Coin().Account(0).Change(Bip44Changes.CHAIN_EXT).AddressIndex(lite_index_key)\n",
    "\n",
    "# Get the private key\n",
    "private_key = bip84_acc_ctx.PrivateKey().Raw().ToHex()\n",
    "\n",
    "# Get the public key\n",
    "public_key = bip84_acc_ctx.PublicKey().RawCompressed().ToHex()\n",
    "\n",
    "# Get the Litecoin SegWit address\n",
    "bitcoin_address = bip84_acc_ctx.PublicKey().ToAddress()\n",
    "\n",
    "print(f\"Private Key: {private_key}\")\n",
    "print(f\"Public Key: {public_key}\")\n",
    "print(f\"Litecoin SegWit Address: {bitcoin_address}\")"
   ]
  },
  {
   "cell_type": "markdown",
   "metadata": {},
   "source": [
    "# ------------\n",
    "#### Solana --- Failing"
   ]
  },
  {
   "cell_type": "code",
   "execution_count": 30,
   "metadata": {},
   "outputs": [
    {
     "name": "stdout",
     "output_type": "stream",
     "text": [
      "Private Key: 96dbb76c2fef46163236fefc5a6733c679de8a4e8bc37f5108bcb1f108ebe673\n",
      "Public Key: 00c2c3df4f8dff493f82cf2bc11778f1998ff577b7d1909c1e9dda242c12a2e288\n",
      "Solana Address: E7HKnMduPbnXxDQupMHQSi4muzYb9zgpGgs6ZPNfnTXD\n"
     ]
    }
   ],
   "source": [
    "# Get the n-th number we want to generate\n",
    "sol_index_key = input(\"Enter the Solana key number you want to generate\")\n",
    "if sol_index_key == '':\n",
    "  sol_index_key = 0\n",
    "\n",
    "# Create a BIP-44 object for Solana\n",
    "bip44_mst_ctx = Bip44.FromSeed(seed, Bip44Coins.SOLANA)\n",
    "\n",
    "# Derive the nth account key pair (m/44'/2'/0'/0/n)\n",
    "bip44_acc_ctx = bip44_mst_ctx.Purpose().Coin().Account(0).Change(Bip44Changes.CHAIN_EXT).AddressIndex(sol_index_key)\n",
    "\n",
    "# Get the private key\n",
    "private_key = bip44_acc_ctx.PrivateKey().Raw().ToHex()\n",
    "\n",
    "# Get the public key\n",
    "public_key = bip44_acc_ctx.PublicKey().RawCompressed().ToHex()\n",
    "\n",
    "# Get the Litecoin address\n",
    "solana_address = bip44_acc_ctx.PublicKey().ToAddress()\n",
    "\n",
    "print(f\"Private Key: {private_key}\")\n",
    "print(f\"Public Key: {public_key}\")\n",
    "print(f\"Solana Address: {solana_address}\")"
   ]
  }
 ],
 "metadata": {
  "kernelspec": {
   "display_name": "Python 3",
   "language": "python",
   "name": "python3"
  },
  "language_info": {
   "codemirror_mode": {
    "name": "ipython",
    "version": 3
   },
   "file_extension": ".py",
   "mimetype": "text/x-python",
   "name": "python",
   "nbconvert_exporter": "python",
   "pygments_lexer": "ipython3",
   "version": "3.12.4"
  }
 },
 "nbformat": 4,
 "nbformat_minor": 2
}
